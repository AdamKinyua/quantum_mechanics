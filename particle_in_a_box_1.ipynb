{
 "cells": [
  {
   "cell_type": "code",
   "execution_count": 1,
   "id": "fb78f55b",
   "metadata": {},
   "outputs": [],
   "source": [
    "import matplotlib.pyplot as plt\n",
    "import numpy as np\n",
    "#STATIONARY SCHRODINGER EQUATION "
   ]
  },
  {
   "cell_type": "code",
   "execution_count": 2,
   "id": "c76a6fb2",
   "metadata": {},
   "outputs": [],
   "source": [
    "#Shooting method; you provide energy and let the system take the shot \n",
    "#constants \n",
    "h_bar = 1\n",
    "m = 1"
   ]
  },
  {
   "cell_type": "code",
   "execution_count": 3,
   "id": "dc0a56e8",
   "metadata": {},
   "outputs": [],
   "source": [
    "#finding our potential\n",
    "#Our box runs from x = 0 to x = a\n",
    "a=1\n",
    "#potential inside the box is set to zero and outside the box the potential will be infinitely large and our \n",
    "#wavefunction goes to zero\n",
    "V=0\n",
    "\n"
   ]
  },
  {
   "cell_type": "code",
   "execution_count": 4,
   "id": "0774fddb",
   "metadata": {},
   "outputs": [
    {
     "data": {
      "image/png": "[encoded data removed]",
      "text/plain": [
       "<Figure size 432x288 with 1 Axes>"
      ]
     },
     "metadata": {
      "needs_background": "light"
     },
     "output_type": "display_data"
    }
   ],
   "source": [
    "#DEfining the wavefunction at the starting position\n",
    "psi = 0\n",
    "#THis is the stationary case hence we call it psi. IN the analytical case we call it phi\n",
    "#defining the derivative \n",
    "#derivative of the wavefunction equals something that is greater than zero. WE will scale it later\n",
    "#It doesn't matter how large the value is as far as it different from zero\n",
    "dpsi=1\n",
    "#we start at x=0\n",
    "x=0\n",
    "dx=a*0.001 \n",
    "#The above will allow us a thousand steps before the reach the other end of the box\n",
    "#Where to store our x values \n",
    "x_list = []\n",
    "psi_list = []\n",
    "\n",
    "#SETTING ENERGY TO 1 TO SEE WHAT THE WAVEFUNCTION WILL LOOK LIKE \n",
    "E=4.9\n",
    "\n",
    "#ddpsi = second derivative of the wavefunction which we are solving in the while loop\n",
    "#Remember, before we can calculate the second derivative we need the first derivative\n",
    "while x<=a:\n",
    "    ddpsi = 2*m/h_bar**2*(V-E)*psi\n",
    "    dpsi=dpsi+ddpsi*dx\n",
    "    psi=psi+dpsi*dx\n",
    "    x=x+dx\n",
    "    x_list.append(x)\n",
    "    psi_list.append(psi)\n",
    "    plt.plot(x_list,psi_list)\n",
    "#E is our first eigne value and psi is our first eigne function "
   ]
  },
  {
   "cell_type": "code",
   "execution_count": null,
   "id": "d0db5f06",
   "metadata": {},
   "outputs": [],
   "source": []
  },
  {
   "cell_type": "code",
   "execution_count": null,
   "id": "55a0627d",
   "metadata": {},
   "outputs": [],
   "source": []
  }
 ],
 "metadata": {
  "kernelspec": {
   "display_name": "Python 3 (ipykernel)",
   "language": "python",
   "name": "python3"
  },
  "language_info": {
   "codemirror_mode": {
    "name": "ipython",
    "version": 3
   },
   "file_extension": ".py",
   "mimetype": "text/x-python",
   "name": "python",
   "nbconvert_exporter": "python",
   "pygments_lexer": "ipython3",
   "version": "3.9.12"
  }
 },
 "nbformat": 4,
 "nbformat_minor": 5
}
